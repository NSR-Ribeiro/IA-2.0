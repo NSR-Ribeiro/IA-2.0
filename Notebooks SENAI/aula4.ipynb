{
 "cells": [
  {
   "cell_type": "markdown",
   "metadata": {},
   "source": [
    "## Revisão\n",
    "- Como somar um numéro?\n",
    "    - Somente somo números inteiros e não string\n",
    "- Qual passo ideal para fazer as operações matemáticas?\n",
    "    - Converter o input para um numero inteiro\n",
    "- Qual tipo de dado retorna de uma divisão?\n",
    "    - Tipo float"
   ]
  },
  {
   "cell_type": "code",
   "execution_count": 1,
   "metadata": {},
   "outputs": [
    {
     "name": "stdout",
     "output_type": "stream",
     "text": [
      "Divisao inteira: 1\n",
      "Divisao normal: 1.75\n",
      "Resto: 9\n",
      "Exponenciação: 7355827511386641\n"
     ]
    }
   ],
   "source": [
    "n1 = input(\"Digite o primeiro numero: \")\n",
    "n2 = input(\"Digite o segundo numero: \")\n",
    "\n",
    "# Convertendo as entradas para inteiro\n",
    "n1 = int(n1)\n",
    "n2 = int(n2)\n",
    "\n",
    "divisao_inteira = n1 // n2\n",
    "divisao = n1 / n2\n",
    "resto = n1 % n2\n",
    "expo = n1 ** n2\n",
    "\n",
    "print(f'Divisao inteira: {divisao_inteira}')\n",
    "print(f'Divisao normal: {divisao}')\n",
    "print(f'Resto: {resto}')\n",
    "print(f'Exponenciação: {expo}')"
   ]
  },
  {
   "cell_type": "code",
   "execution_count": 2,
   "metadata": {},
   "outputs": [
    {
     "name": "stdout",
     "output_type": "stream",
     "text": [
      "Resultado de atribuição de subtração: 0\n"
     ]
    }
   ],
   "source": [
    "# Atribuição subtração\n",
    "valor = 10\n",
    "valor -=10\n",
    "print(f'Resultado de atribuição de subtração: {valor}')"
   ]
  },
  {
   "cell_type": "code",
   "execution_count": 11,
   "metadata": {},
   "outputs": [
    {
     "name": "stdout",
     "output_type": "stream",
     "text": [
      "Resultado de atribuição de soma: 10\n"
     ]
    }
   ],
   "source": [
    "# Atribuição de soma\n",
    "valor += 10\n",
    "print(f'Resultado de atribuição de soma: {valor}')"
   ]
  },
  {
   "cell_type": "code",
   "execution_count": 12,
   "metadata": {},
   "outputs": [
    {
     "name": "stdout",
     "output_type": "stream",
     "text": [
      "Resultado de atribuição de multiplicação: 100\n"
     ]
    }
   ],
   "source": [
    "# Atribuição de multiplicação\n",
    "valor *= 10\n",
    "print(f'Resultado de atribuição de multiplicação: {valor}')"
   ]
  },
  {
   "cell_type": "code",
   "execution_count": 13,
   "metadata": {},
   "outputs": [
    {
     "name": "stdout",
     "output_type": "stream",
     "text": [
      "Resultado de atribuição de divisão: 10.0\n"
     ]
    }
   ],
   "source": [
    "# Atribuição de divisão\n",
    "valor /= 10\n",
    "print(f'Resultado de atribuição de divisão: {valor}')"
   ]
  },
  {
   "cell_type": "code",
   "execution_count": 14,
   "metadata": {},
   "outputs": [
    {
     "name": "stdout",
     "output_type": "stream",
     "text": [
      "Resultado de atribuição de divisão inteira: 1.0\n"
     ]
    }
   ],
   "source": [
    "# Atribuição de divisão inteira\n",
    "valor //= 10\n",
    "print(f'Resultado de atribuição de divisão inteira: {valor}')"
   ]
  },
  {
   "cell_type": "code",
   "execution_count": 15,
   "metadata": {},
   "outputs": [
    {
     "name": "stdout",
     "output_type": "stream",
     "text": [
      "Resultado da atribuição de modulo: 1.0\n"
     ]
    }
   ],
   "source": [
    "# Atribuição de modulo\n",
    "valor %= 10\n",
    "print(f'Resultado da atribuição de modulo: {valor}')"
   ]
  },
  {
   "cell_type": "markdown",
   "metadata": {},
   "source": [
    "## Atividade\n",
    "- Crie um programa para o Boletim de notas do aluno. Guarde o nome do aluno, as notas e caulcule a media final do aluno.\n",
    "    - Disciplinas:\n",
    "        - Matemática\n",
    "        - Português\n",
    "        - Geografia\n",
    "        - Historia\n",
    "        - Física\n",
    "- Ao obter as notas e a media das notas, imprima o boletim do aluno informando as notas das materias e com quanto ele ficou de madia"
   ]
  },
  {
   "cell_type": "code",
   "execution_count": 2,
   "metadata": {},
   "outputs": [
    {
     "name": "stdout",
     "output_type": "stream",
     "text": [
      "------------------------------ BOLETIM ESCOLAR ------------------------------\n",
      "A nota de Matemática é: 7.0\n",
      "A nota de Português é: 8.0\n",
      "A nota de Geografia é: 9.0\n",
      "A nota de História é: 5.0\n",
      "A nota de Física é: 4.0\n",
      "A media do aluno foi: 6.60\n",
      "------------------------------------------------------------------------------\n",
      "Leo está de recuperação.\n"
     ]
    }
   ],
   "source": [
    "\n",
    "print(30*\"-\", \"BOLETIM ESCOLAR\", 30*\"-\")\n",
    "nome = input(\"Digite o nome do Aluno\")\n",
    "\n",
    "notaMatematica = float (input(\"Digite a nota de Matemática\"))\n",
    "print(f'A nota de Matemática é: {notaMatematica}')\n",
    "\n",
    "notaPortugues = float (input(\"Digite a nota de Português\"))\n",
    "print(f'A nota de Português é: {notaPortugues}')\n",
    "\n",
    "notaGeografia = float (input(\"Digite a nota de Geografia\"))\n",
    "print(f'A nota de Geografia é: {notaGeografia}')\n",
    "\n",
    "notaHistoria = float (input(\"Digite a nota de História\"))\n",
    "print(f'A nota de História é: {notaHistoria}')\n",
    "\n",
    "notaFisica = float (input(\"Digite a nota de Física\"))\n",
    "print(f'A nota de Física é: {notaFisica}')\n",
    "\n",
    "media = (notaMatematica + notaPortugues + notaGeografia + notaHistoria + notaFisica) / 5\n",
    "print(f'A media do aluno foi: {media:.2f}')\n",
    "print(78*\"-\")\n",
    "\n",
    "if media >= 7:\n",
    "    print(f'{nome} foi aprovado.')\n",
    "elif media >= 5:\n",
    "    print(f'{nome} está de recuperação.')\n",
    "else:\n",
    "    print(f'{nome} está reprovado.')\n",
    "\n"
   ]
  }
 ],
 "metadata": {
  "kernelspec": {
   "display_name": ".venv",
   "language": "python",
   "name": "python3"
  },
  "language_info": {
   "codemirror_mode": {
    "name": "ipython",
    "version": 3
   },
   "file_extension": ".py",
   "mimetype": "text/x-python",
   "name": "python",
   "nbconvert_exporter": "python",
   "pygments_lexer": "ipython3",
   "version": "3.12.4"
  }
 },
 "nbformat": 4,
 "nbformat_minor": 2
}
