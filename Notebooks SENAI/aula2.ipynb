{
 "cells": [
  {
   "cell_type": "markdown",
   "metadata": {},
   "source": [
    "## Hello Word (Olá Mundo)"
   ]
  },
  {
   "cell_type": "code",
   "execution_count": 1,
   "metadata": {},
   "outputs": [
    {
     "name": "stdout",
     "output_type": "stream",
     "text": [
      "Olá Mundo\n"
     ]
    }
   ],
   "source": [
    "print('Olá Mundo')"
   ]
  },
  {
   "cell_type": "markdown",
   "metadata": {},
   "source": [
    "## Para Comentários de Bloco usar 3 aspas"
   ]
  },
  {
   "cell_type": "code",
   "execution_count": 3,
   "metadata": {},
   "outputs": [
    {
     "data": {
      "text/plain": [
       "'\\nComentário de\\nBloco\\n'"
      ]
     },
     "execution_count": 3,
     "metadata": {},
     "output_type": "execute_result"
    }
   ],
   "source": [
    "'''\n",
    "Comentário de\n",
    "Bloco\n",
    "'''"
   ]
  },
  {
   "cell_type": "markdown",
   "metadata": {},
   "source": [
    "## Para Comentários de Linha usar Jogo da Velha"
   ]
  },
  {
   "cell_type": "code",
   "execution_count": 2,
   "metadata": {},
   "outputs": [],
   "source": [
    "# Comentários de Linha"
   ]
  },
  {
   "cell_type": "markdown",
   "metadata": {},
   "source": [
    "## Declarando Variáveis"
   ]
  },
  {
   "cell_type": "code",
   "execution_count": 15,
   "metadata": {},
   "outputs": [
    {
     "name": "stdout",
     "output_type": "stream",
     "text": [
      "Leandro <class 'str'>\n",
      "37 <class 'int'>\n",
      "57.0 <class 'float'>\n",
      "1.7 <class 'float'>\n",
      "True <class 'bool'>\n"
     ]
    },
    {
     "data": {
      "text/plain": [
       "'\\nprint(type(nome))\\nprint(type(idade))\\nprint(type(peso))\\nprint(type(altura))\\nprint(type(estudante))\\n'"
      ]
     },
     "execution_count": 15,
     "metadata": {},
     "output_type": "execute_result"
    }
   ],
   "source": [
    "nome = 'Leandro'\n",
    "idade = 37\n",
    "peso = 57.0\n",
    "altura = 1.70\n",
    "estudante = True\n",
    "\n",
    "print(nome, type(nome))\n",
    "print(idade, type(idade))\n",
    "print(peso, type(peso))\n",
    "print(altura, type(altura))\n",
    "print(estudante, type(estudante))\n",
    "\n",
    "\"\"\"\n",
    "print(type(nome))\n",
    "print(type(idade))\n",
    "print(type(peso))\n",
    "print(type(altura))\n",
    "print(type(estudante))\n",
    "\"\"\""
   ]
  },
  {
   "cell_type": "markdown",
   "metadata": {},
   "source": [
    "## Convertendo Tipos de Dados"
   ]
  },
  {
   "cell_type": "code",
   "execution_count": 16,
   "metadata": {},
   "outputs": [
    {
     "name": "stdout",
     "output_type": "stream",
     "text": [
      "valor sem conversão <class 'int'>\n",
      "segundo valor já convertido <class 'str'>\n"
     ]
    }
   ],
   "source": [
    "valor = 15\n",
    "print('valor sem conversão', type(valor))\n",
    "valor= str(valor)\n",
    "print('segundo valor já convertido', type(valor))"
   ]
  },
  {
   "cell_type": "markdown",
   "metadata": {},
   "source": [
    "## Concatenação\n",
    "\n",
    "- Concatenação usando sinal de +, não conseguimos concatenar variáveis do tipo Int(Inteiro) "
   ]
  },
  {
   "cell_type": "code",
   "execution_count": 22,
   "metadata": {},
   "outputs": [
    {
     "name": "stdout",
     "output_type": "stream",
     "text": [
      "Olá meu nome é Leandro Sousa tenho 37anos de vida!\n",
      "Olá meu nome é  Leandro Sousa tenho 37 anos de vida!\n",
      "Olá meu nome é Leandro Sousa e tenho 37 anos de vida!\n"
     ]
    }
   ],
   "source": [
    "nome = 'Leandro Sousa'\n",
    "idade = 37\n",
    "altura = 1.70\n",
    "\n",
    "# Modo 1\n",
    "\n",
    "print('Olá meu nome é '+ nome + ' tenho '+ str(idade)+ 'anos de vida!')\n",
    "\n",
    "# Modo 2\n",
    "\n",
    "print('Olá meu nome é ', nome, 'tenho', idade, 'anos de vida!')\n",
    "\n",
    "# Modo 3\n",
    "\n",
    "print(f'Olá meu nome é {nome} e tenho {idade} anos de vida!')"
   ]
  },
  {
   "cell_type": "markdown",
   "metadata": {},
   "source": [
    "## Entrada de Dados"
   ]
  },
  {
   "cell_type": "code",
   "execution_count": 23,
   "metadata": {},
   "outputs": [
    {
     "name": "stdout",
     "output_type": "stream",
     "text": [
      "Leandro\n"
     ]
    }
   ],
   "source": [
    "nome = input(\"Digite seu nome: \")\n",
    "print(nome)"
   ]
  },
  {
   "cell_type": "markdown",
   "metadata": {},
   "source": [
    "## Atividade\n",
    "\n",
    "- Criar um sistema para receber o nome, idade, peso e altura do usuário\n",
    "- Restringir a idade para receber somente valores inteiros\n",
    "- Imprimir todas as informaçôes do usuário usando a concatenação f string\n",
    "- Imprima o tipo de daod de cada uma das Váriáveis"
   ]
  },
  {
   "cell_type": "code",
   "execution_count": 26,
   "metadata": {},
   "outputs": [
    {
     "name": "stdout",
     "output_type": "stream",
     "text": [
      "Olá meu nome é ('Leandro', <class 'str'>) \n",
      "tenho (37, <class 'int'>) \n",
      " e o peso (57.2, <class 'float'>) \n",
      "(1.7, <class 'float'>) é a minha altura\n"
     ]
    }
   ],
   "source": [
    "nome = input('Digite o seu nome: ')\n",
    "\n",
    "idade = int(input('Digite a sua idade: '))\n",
    "\n",
    "peso = float(input('Digite o seu peso: '))\n",
    "\n",
    "altura = float(input('Digite a sua altura'))\n",
    "\n",
    "print(f'Olá meu nome é {nome, type(nome)} \\ntenho {idade, type(idade)} \\n e o peso {peso, type(peso)} \\n{altura, type(altura)} é a minha altura' )"
   ]
  }
 ],
 "metadata": {
  "kernelspec": {
   "display_name": ".venv",
   "language": "python",
   "name": "python3"
  },
  "language_info": {
   "codemirror_mode": {
    "name": "ipython",
    "version": 3
   },
   "file_extension": ".py",
   "mimetype": "text/x-python",
   "name": "python",
   "nbconvert_exporter": "python",
   "pygments_lexer": "ipython3",
   "version": "3.12.4"
  }
 },
 "nbformat": 4,
 "nbformat_minor": 2
}
