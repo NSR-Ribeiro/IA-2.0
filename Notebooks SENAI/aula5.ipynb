{
 "cells": [
  {
   "cell_type": "markdown",
   "metadata": {},
   "source": [
    "## Revisão aula 04\n",
    "- Qual primeiro comado para iniciar novo repositorio\n",
    "    - git init\n",
    "- Cria o repositório na maquina\n",
    "- Configurando credenciais git config --global user.email (user.name)\n",
    "- Verificar o estado do projeto com o comando git status\n",
    "- Adicionar os arquivos ao commit com git add .\n",
    "- Em seguida fazer o git commit -m \"mensagem\"\n",
    "- Verificar se o repositorio remoto esta conectado com git remote -v\n",
    "- Fazer o push para empurrar os arquivos para nuvem github"
   ]
  },
  {
   "cell_type": "code",
   "execution_count": 1,
   "metadata": {},
   "outputs": [
    {
     "name": "stdout",
     "output_type": "stream",
     "text": [
      "if falso\n",
      "finalizou o codigo\n"
     ]
    }
   ],
   "source": [
    "programador = False\n",
    "\n",
    "if programador :\n",
    "    print('if é verdadeiro')\n",
    "    \n",
    "\n",
    "else:\n",
    "    print(\"if falso\")\n",
    "\n",
    "print('finalizou o codigo')"
   ]
  },
  {
   "cell_type": "code",
   "execution_count": 2,
   "metadata": {},
   "outputs": [
    {
     "name": "stdout",
     "output_type": "stream",
     "text": [
      "Maior de idade\n"
     ]
    }
   ],
   "source": [
    "jovem = 18\n",
    "\n",
    "if jovem >= 18:\n",
    "    print(\"Maior de idade\")\n",
    "else:\n",
    "    print(\"menor de idade\")"
   ]
  },
  {
   "cell_type": "code",
   "execution_count": 3,
   "metadata": {},
   "outputs": [
    {
     "name": "stdout",
     "output_type": "stream",
     "text": [
      "reprovado\n"
     ]
    }
   ],
   "source": [
    "nota = 4\n",
    "\n",
    "if nota >= 7:\n",
    "    print(\"aluno aprovado\")\n",
    "elif nota >=5:\n",
    "    print(\"Esta de recuperação\")\n",
    "else:\n",
    "    print(\"reprovado\")"
   ]
  },
  {
   "cell_type": "code",
   "execution_count": 4,
   "metadata": {},
   "outputs": [
    {
     "name": "stdout",
     "output_type": "stream",
     "text": [
      "Pode brincar na montanha russa!\n"
     ]
    }
   ],
   "source": [
    "idade = 15\n",
    "altura = 1.75\n",
    "# and\n",
    "# or \n",
    "\n",
    "if idade >= 18 or altura > 1.60:\n",
    "    print('Pode brincar na montanha russa!')\n",
    "else:\n",
    "    print('Não pode brincar')"
   ]
  },
  {
   "cell_type": "markdown",
   "metadata": {},
   "source": [
    "## Desafio 1\n",
    "- Usando o conceito de operadores e if else, crie um programa que verifica se o numero é par ou impar."
   ]
  },
  {
   "cell_type": "code",
   "execution_count": 10,
   "metadata": {},
   "outputs": [
    {
     "name": "stdout",
     "output_type": "stream",
     "text": [
      "---------- VERIFICA SE O NÚMERO É PAR OU ÍMPAR ----------\n",
      "O número 15 é ímpar!\n"
     ]
    }
   ],
   "source": [
    "print(10*\"-\", \"VERIFICA SE O NÚMERO É PAR OU ÍMPAR\", 10*\"-\")\n",
    "num = input(\"Digite um número\")\n",
    "num = int(num)\n",
    "\n",
    "# verifica se o resto da divisao do numero por 2 é igual a 0\n",
    "if num % 2 == 0:\n",
    "    print(f\"O número {num} é par!\")\n",
    "\n",
    "else:\n",
    "    print(f\"O número {num} é ímpar!\")"
   ]
  },
  {
   "cell_type": "markdown",
   "metadata": {},
   "source": [
    "## Desafio 2\n",
    "- Um elevador de carga possui capacidade para 200kg.\n",
    "    - Crie um programa que receba do usuario o peso da carga, ou seu peso e verifica se a carga esta autorizada a usar o elevador ou não."
   ]
  },
  {
   "cell_type": "code",
   "execution_count": 11,
   "metadata": {},
   "outputs": [
    {
     "name": "stdout",
     "output_type": "stream",
     "text": [
      "AUTORIZADO\n"
     ]
    }
   ],
   "source": [
    "peso = float (input(\"Digite o peso para entrar no elevador\"))\n",
    "capacidade = 200\n",
    "\n",
    "if peso <= capacidade:\n",
    "    print(\"AUTORIZADO\")\n",
    "\n",
    "else:\n",
    "    print(\"PERIGO NÂO ENTRE\")"
   ]
  },
  {
   "cell_type": "markdown",
   "metadata": {},
   "source": [
    "## Desafio 3\n",
    "- Crie um sistema para coletar os dados do aluno, (nome, idade, cpf), em seguida solicite as notas dos 4 bimestres da diciplina de Python que o aluno teve para verificar a MEDIA.\n",
    "    - Media para aprovação >= 7\n",
    "    - Media para recuperação >= 5\n",
    "    - Media para reprovação < 5 (somente else)\n",
    "- Para retirar o boletim de notas, o aluno precisa ser maior de idade(18) e caso não seja, somente os pais podem retirar o boletim.\n",
    "    - Imprima as informações do aluno\n",
    "    - Imprima as notas do aluno em cada bimestre\n",
    "    - Imprima a situação do aluno (aprovado, reprovado, recuperação)\n",
    "    - Imprima se o boletim sera retirado pelos pais ou pelo proprio aluno"
   ]
  },
  {
   "cell_type": "code",
   "execution_count": 33,
   "metadata": {},
   "outputs": [
    {
     "name": "stdout",
     "output_type": "stream",
     "text": [
      "------------------------------ BOLETIM ESCOLAR ------------------------------\n",
      "Aluno maior, autorizado a pegar o Boletim!\n",
      "Estudante leo\n",
      "19 anos de idade\n",
      "CPF, número: 01245687954\n",
      "A nota do primeiro Bimestre foi: 2.0\n",
      "A nota do segundo Bimestre foi: 5.0\n",
      "A nota do terceiro Bimestre foi: 9.0\n",
      "A nota do quarto Bimestre foi: 9.0\n",
      "A média geral do Estudante foi: 6.25\n",
      "RECUPERAÇÂO\n",
      "------------------------------------------------------------------------------\n"
     ]
    }
   ],
   "source": [
    "print(30*\"-\",\"BOLETIM ESCOLAR\",30*\"-\")\n",
    "nome = input(\"Digite o nome do aluno: \").lower()\n",
    "idade = int (input(\"Digite a idade do Aluno: \"))\n",
    "cpf = input(\"Digite o CPF do aluno: \")\n",
    "\n",
    "nota1 = input(\"Digite a nota do 1º Bimestre: \")\n",
    "nota2 = input(\"Digite a nota do 2º Bimestre: \")\n",
    "nota3 = input(\"Digite a nota do 3º Bimestre: \")\n",
    "nota4 = input(\"Digite a nota do 4º Bimestre: \")\n",
    "\n",
    "nota1 = float(nota1)\n",
    "nota2 = float(nota2)\n",
    "nota3 = float(nota3)\n",
    "nota4 = float(nota4)\n",
    "\n",
    "media = (nota1 + nota2 + nota3 + nota4)/ 4\n",
    "\n",
    "if idade >= 18 :\n",
    "    print(\"Aluno maior, autorizado a pegar o Boletim!\")\n",
    "    print(\"Estudante: \"+nome)\n",
    "    print(f\"{idade} anos de idade\")\n",
    "    print(\"CPF, número: \"+cpf)\n",
    "    print(f\"A nota do primeiro Bimestre foi: {nota1}\")\n",
    "    print(f\"A nota do segundo Bimestre foi: {nota2}\")\n",
    "    print(f\"A nota do terceiro Bimestre foi: {nota3}\")\n",
    "    print(f\"A nota do quarto Bimestre foi: {nota4}\")\n",
    "    print(f\"A média geral do Estudante foi: {media}\")\n",
    "\n",
    "    if media >= 7:\n",
    "        print(\"APROVADO\")\n",
    "\n",
    "    elif media >= 5:\n",
    "        print(\"RECUPERAÇÂO\")\n",
    "\n",
    "    else:\n",
    "        print(\"REPROVADO\")        \n",
    "\n",
    "else:\n",
    "    print(\"Boletim será entregue ao responsável!\")\n",
    "\n",
    "print(78*\"-\")"
   ]
  },
  {
   "cell_type": "code",
   "execution_count": 32,
   "metadata": {},
   "outputs": [
    {
     "name": "stdout",
     "output_type": "stream",
     "text": [
      "------------------------------ Boletim escolar! ------------------------------\n",
      "Aluno: LEO\n",
      "Nota 1 : 10.0\n",
      "Nota 2 : 10.0\n",
      "Nota 3 : 1.0\n",
      "Nota 4 : 1.0\n",
      "Media das notas : 5.5\n",
      "Eita, você está de recuperação! :( \n"
     ]
    }
   ],
   "source": [
    "# Correção\n",
    "\n",
    "nome = input(\"Digite o nome do aluno: \").upper()\n",
    "cpf = input(\"Digite seu CPF: \")\n",
    "idade = input(\"Digite a idade do aluno: \")\n",
    "idade = int(idade)\n",
    "\n",
    "nota1 = input(\"Digite a nota do 1° Bimestre: \")\n",
    "nota2 = input(\"Digite a nota do 2° Bimestre: \")\n",
    "nota3 = input(\"Digite a nota do 3° Bimestre: \")\n",
    "nota4 = input(\"Digite a nota do 4° Bimestre: \")\n",
    "\n",
    "nota1 = float(nota1)\n",
    "nota2 = float(nota2)\n",
    "nota3 = float(nota3)\n",
    "nota4 = float(nota4)\n",
    "\n",
    "media = (nota1 + nota2 + nota3 + nota4)/4\n",
    "\n",
    "if idade >= 18:\n",
    "    print(30*\"-\",\"Boletim escolar!\",30*\"-\")\n",
    "    print(f\"Aluno: {nome}\")\n",
    "    print(f\"Nota 1 : {nota1}\")\n",
    "    print(f\"Nota 2 : {nota2}\")\n",
    "    print(f\"Nota 3 : {nota3}\")\n",
    "    print(f\"Nota 4 : {nota4}\")\n",
    "    print(f\"Media das notas : {media}\")\n",
    "    if media >= 7:\n",
    "        print(\"Parabéns, você está aprovado!\")\n",
    "    elif media >= 5:\n",
    "        print(\"Eita, você está de recuperação! :( \")\n",
    "    else:\n",
    "        print(\"Que pena! Você foi reprovado!\")\n",
    "else:\n",
    "    print(\"As notas so serão entregues a um responsável!\")"
   ]
  }
 ],
 "metadata": {
  "kernelspec": {
   "display_name": ".venv",
   "language": "python",
   "name": "python3"
  },
  "language_info": {
   "codemirror_mode": {
    "name": "ipython",
    "version": 3
   },
   "file_extension": ".py",
   "mimetype": "text/x-python",
   "name": "python",
   "nbconvert_exporter": "python",
   "pygments_lexer": "ipython3",
   "version": "3.12.4"
  }
 },
 "nbformat": 4,
 "nbformat_minor": 2
}
